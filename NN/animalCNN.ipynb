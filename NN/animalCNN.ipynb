{
 "cells": [
  {
   "cell_type": "code",
   "execution_count": 1,
   "metadata": {},
   "outputs": [
    {
     "name": "stderr",
     "output_type": "stream",
     "text": [
      "/Users/tomsmail/Documents/Hackathons/DurHack2024/venv/lib/python3.12/site-packages/tqdm/auto.py:21: TqdmWarning: IProgress not found. Please update jupyter and ipywidgets. See https://ipywidgets.readthedocs.io/en/stable/user_install.html\n",
      "  from .autonotebook import tqdm as notebook_tqdm\n"
     ]
    },
    {
     "name": "stdout",
     "output_type": "stream",
     "text": [
      "Path to dataset files: /Users/tomsmail/.cache/kagglehub/datasets/iamsouravbanerjee/animal-image-dataset-90-different-animals/versions/5/animals/animals/\n"
     ]
    }
   ],
   "source": [
    "# A CNN using torch to classify animals \n",
    "import kagglehub\n",
    "\n",
    "# Download latest version\n",
    "# You need a Kaggle API key to download datasets (ask Tom)\n",
    "path = kagglehub.dataset_download(\"iamsouravbanerjee/animal-image-dataset-90-different-animals\")\n",
    "\n",
    "# Path to dataset files not properly configured, add to fix\n",
    "path = path + \"/animals/animals/\"\n",
    "print(\"Path to dataset files:\", path)"
   ]
  },
  {
   "cell_type": "code",
   "execution_count": 2,
   "metadata": {},
   "outputs": [],
   "source": [
    "import torch\n",
    "import torch.nn as nn\n",
    "import torch.optim as optim\n",
    "import torchvision\n",
    "import torchvision.transforms as transforms\n",
    "from torch.utils.data import DataLoader\n",
    "from torchvision.models import mobilenet_v2\n",
    "\n",
    "import matplotlib.pyplot as plt"
   ]
  },
  {
   "cell_type": "code",
   "execution_count": 3,
   "metadata": {},
   "outputs": [
    {
     "name": "stdout",
     "output_type": "stream",
     "text": [
      "{'antelope': 0, 'badger': 1, 'bat': 2, 'bear': 3, 'bee': 4, 'beetle': 5, 'bison': 6, 'boar': 7, 'butterfly': 8, 'cat': 9, 'caterpillar': 10, 'chimpanzee': 11, 'cockroach': 12, 'cow': 13, 'coyote': 14, 'crab': 15, 'crow': 16, 'deer': 17, 'dog': 18, 'dolphin': 19, 'donkey': 20, 'dragonfly': 21, 'duck': 22, 'eagle': 23, 'elephant': 24, 'flamingo': 25, 'fly': 26, 'fox': 27, 'goat': 28, 'goldfish': 29, 'goose': 30, 'gorilla': 31, 'grasshopper': 32, 'hamster': 33, 'hare': 34, 'hedgehog': 35, 'hippopotamus': 36, 'hornbill': 37, 'horse': 38, 'hummingbird': 39, 'hyena': 40, 'jellyfish': 41, 'kangaroo': 42, 'koala': 43, 'ladybugs': 44, 'leopard': 45, 'lion': 46, 'lizard': 47, 'lobster': 48, 'mosquito': 49, 'moth': 50, 'mouse': 51, 'octopus': 52, 'okapi': 53, 'orangutan': 54, 'otter': 55, 'owl': 56, 'ox': 57, 'oyster': 58, 'panda': 59, 'parrot': 60, 'pelecaniformes': 61, 'penguin': 62, 'pig': 63, 'pigeon': 64, 'porcupine': 65, 'possum': 66, 'raccoon': 67, 'rat': 68, 'reindeer': 69, 'rhinoceros': 70, 'sandpiper': 71, 'seahorse': 72, 'seal': 73, 'shark': 74, 'sheep': 75, 'snake': 76, 'sparrow': 77, 'squid': 78, 'squirrel': 79, 'starfish': 80, 'swan': 81, 'tiger': 82, 'turkey': 83, 'turtle': 84, 'whale': 85, 'wolf': 86, 'wombat': 87, 'woodpecker': 88, 'zebra': 89}\n",
      "Number of train batches: 135\n",
      "Number of validation batches: 17\n",
      "Number of test batches: 17\n"
     ]
    }
   ],
   "source": [
    "# Define transformations for the training data and testing data\n",
    "transform = transforms.Compose([\n",
    "    transforms.Resize((128, 128)),\n",
    "    transforms.ToTensor()\n",
    "])\n",
    "\n",
    "# Load the dataset\n",
    "dataset = torchvision.datasets.ImageFolder(root=path, transform=transform)\n",
    "\n",
    "# Split the dataset into training, validation and  testing sets\n",
    "train_size, val_size, test_size = int(0.8 * len(dataset)), int(0.1 * len(dataset)), int(0.1 * len(dataset))\n",
    "train_set, val_set, test_set = torch.utils.data.random_split(dataset, [train_size, val_size, test_size])\n",
    "\n",
    "# Create a DataLoader\n",
    "train_loader = DataLoader(train_set, batch_size=32, shuffle=True)\n",
    "\n",
    "print(dataset.class_to_idx)\n",
    "# for i, (batch, batch_targets) in enumerate(train_loader):\n",
    "#     print(batch_targets)\n",
    "\n",
    "\n",
    "# Don't shuffle the validation and testing data - no point\n",
    "val_loader = DataLoader(val_set, batch_size=32, shuffle=False)\n",
    "test_loader = DataLoader(test_set, batch_size=32, shuffle=False)\n",
    "\n",
    "# Print the number of batches\n",
    "print(f\"Number of train batches: {len(train_loader)}\")\n",
    "print(f\"Number of validation batches: {len(val_loader)}\")\n",
    "print(f\"Number of test batches: {len(test_loader)}\")"
   ]
  },
  {
   "cell_type": "code",
   "execution_count": 4,
   "metadata": {},
   "outputs": [
    {
     "name": "stderr",
     "output_type": "stream",
     "text": [
      "/Users/tomsmail/Documents/Hackathons/DurHack2024/venv/lib/python3.12/site-packages/torchvision/models/_utils.py:208: UserWarning: The parameter 'pretrained' is deprecated since 0.13 and may be removed in the future, please use 'weights' instead.\n",
      "  warnings.warn(\n",
      "/Users/tomsmail/Documents/Hackathons/DurHack2024/venv/lib/python3.12/site-packages/torchvision/models/_utils.py:223: UserWarning: Arguments other than a weight enum or `None` for 'weights' are deprecated since 0.13 and may be removed in the future. The current behavior is equivalent to passing `weights=MobileNet_V2_Weights.IMAGENET1K_V1`. You can also use `weights=MobileNet_V2_Weights.DEFAULT` to get the most up-to-date weights.\n",
      "  warnings.warn(msg)\n"
     ]
    },
    {
     "name": "stdout",
     "output_type": "stream",
     "text": [
      "Epoch [1/5], Loss: 2.5972\n",
      "Epoch [2/5], Loss: 1.7032\n",
      "Epoch [3/5], Loss: 0.9821\n",
      "Epoch [4/5], Loss: 0.6132\n",
      "Epoch [5/5], Loss: 0.7996\n"
     ]
    },
    {
     "data": {
      "image/png": "[encoded data removed]",
      "text/plain": [
       "<Figure size 640x480 with 1 Axes>"
      ]
     },
     "metadata": {},
     "output_type": "display_data"
    }
   ],
   "source": [
    "# Load the pre-trained MobileNet model\n",
    "model = mobilenet_v2(pretrained=True)\n",
    "\n",
    "# Freeze all the layers\n",
    "for param in model.parameters():\n",
    "    param.requires_grad = False\n",
    "\n",
    "num_classes = 90\n",
    "model.classifier[1] = nn.Linear(model.classifier[1].in_features, num_classes)\n",
    "\n",
    "# Unfreeze the last few layers for fine-tuning\n",
    "for param in model.features[-5:].parameters():\n",
    "    param.requires_grad = True\n",
    "\n",
    "# Print the model architecture to verify\n",
    "# print(model)\n",
    "\n",
    "# Define loss function and optimizer\n",
    "criterion = nn.CrossEntropyLoss()\n",
    "\n",
    "# Define the optimizer with momentum\n",
    "optimizer = optim.SGD(filter(lambda p: p.requires_grad, model.parameters()), lr=0.001, momentum=0.9)\n",
    "\n",
    "\n",
    "loss_values = []\n",
    "\n",
    "# Example training loop\n",
    "num_epochs = 5\n",
    "for epoch in range(num_epochs):\n",
    "    model.train()\n",
    "    for images, labels in train_loader:\n",
    "        outputs = model(images)\n",
    "        loss = criterion(outputs, labels)\n",
    "        \n",
    "        optimizer.zero_grad()\n",
    "        loss.backward()\n",
    "        optimizer.step()\n",
    "\n",
    "        loss_values.append(loss.item())\n",
    "\n",
    "    print(f\"Epoch [{epoch+1}/{num_epochs}], Loss: {loss.item():.4f}\")\n",
    "\n",
    "plt.plot(range(1, len(loss_values) + 1), loss_values, marker='o')\n",
    "plt.xlabel('Batch')\n",
    "plt.ylabel('Loss')\n",
    "plt.title('Training Loss Over Time')\n",
    "plt.show()"
   ]
  },
  {
   "cell_type": "code",
   "execution_count": 5,
   "metadata": {},
   "outputs": [
    {
     "name": "stdout",
     "output_type": "stream",
     "text": [
      "tensor([ 0, 31, 54, 45, 51, 69, 62, 56,  8, 80, 48,  2, 18,  9, 30, 61,  6, 86,\n",
      "        34, 11, 27, 28, 52, 44, 24, 71, 11, 48, 43, 26, 61, 67])\n",
      "tensor([38, 85, 87, 75, 77, 62, 64, 48, 47,  9, 50, 49,  3, 58, 29,  6, 28, 46,\n",
      "        52,  5,  7, 34, 86, 28, 29, 15, 12, 28, 78, 43, 37, 34])\n",
      "tensor([13, 22, 72, 54, 64, 37, 43, 65, 24, 39, 38,  6,  4, 16, 42, 64, 31, 22,\n",
      "        27,  9, 44, 56, 43, 39, 40,  2, 41, 64, 10, 63, 33, 76])\n",
      "tensor([ 6, 87, 34, 31, 51, 84, 59,  9, 53, 20, 45, 76,  3, 17, 49, 38,  8, 59,\n",
      "        83, 77, 35, 42, 37, 10, 28, 69,  8, 39, 47, 73, 83, 75])\n",
      "tensor([ 7, 89, 24, 44, 76, 28, 56, 25, 67, 20, 49, 39, 35, 55, 84, 71, 85, 58,\n",
      "        15, 85,  7, 29, 80, 28, 46,  4, 22, 59,  1, 55, 89,  2])\n",
      "tensor([48,  5, 12, 29, 59, 86, 57, 19, 87, 38, 24, 34, 31, 46, 58, 24, 14,  6,\n",
      "        13, 43, 19, 87,  0, 55, 79, 44, 31, 50, 39, 23, 34, 23])\n",
      "tensor([69, 66, 73, 52, 12, 81, 80, 43, 72, 75, 45, 76, 64, 74, 35, 35, 39, 41,\n",
      "        52, 68, 29, 89, 71,  8,  0, 47, 79, 15, 51, 65,  6, 19])\n",
      "tensor([10, 41, 31, 45, 14, 55, 21, 13, 45, 65, 65, 13, 64, 57, 26, 78,  9, 45,\n",
      "        14, 15, 47, 71, 34, 62, 30, 82,  9, 23, 31, 68, 51, 76])\n",
      "tensor([60, 83, 75, 83, 86, 77, 56, 19, 87, 14, 44, 19, 37, 22, 85, 75,  0, 17,\n",
      "        49, 17, 35, 37, 87, 46, 35, 45, 15, 83, 86, 72, 29, 84])\n",
      "tensor([74, 60, 63, 32, 16, 47, 86, 29,  9, 73, 65, 33,  5, 38, 27, 87, 38, 73,\n",
      "        68, 87, 70, 87, 11, 76, 71, 28, 34, 79,  1, 77, 28, 49])\n",
      "tensor([68, 17, 88, 21, 31, 17, 59, 53, 56, 89, 82, 28, 84, 35, 20,  8, 29, 29,\n",
      "        50, 68, 61, 35, 80, 45,  2, 65,  8,  3, 34, 10, 28, 79])\n",
      "tensor([85, 72, 70, 58, 18, 75, 69, 26,  0,  1, 87, 80, 16, 48, 52, 49, 14, 51,\n",
      "        80,  1, 51, 50, 63, 85, 41, 29, 49, 17, 64, 54, 57, 73])\n",
      "tensor([25, 46, 26, 64, 14, 82,  7, 84, 36, 53,  7,  9,  3, 25, 33,  1, 89, 63,\n",
      "         9, 29, 13, 84, 62, 80, 45, 25, 59,  6, 68, 37, 40, 18])\n",
      "tensor([78, 22, 61, 18, 44, 56, 38,  1, 20, 14, 12, 73, 73, 85, 13, 80, 80, 89,\n",
      "        24, 35, 31, 60, 12, 16, 77, 81, 32, 15, 61, 35, 48, 32])\n",
      "tensor([17, 79, 51, 63, 56, 46,  0, 78,  3, 41, 54, 32, 46, 28, 64, 76, 41, 27,\n",
      "        56, 16, 43, 67, 18, 83, 80, 61, 60, 23, 50, 41, 15, 80])\n",
      "tensor([24, 54, 33, 66, 38, 86, 65, 79, 64, 28, 19, 63, 31, 14, 60, 87, 41, 26,\n",
      "        62, 22,  2, 18, 32, 68,  7, 39, 65, 40, 14, 11, 43,  0])\n",
      "tensor([71, 85, 32, 80, 62, 69, 65, 67,  9, 81,  0,  5, 44, 12, 11, 38, 72, 26,\n",
      "         3, 21, 59, 17, 67, 22, 72, 41,  0, 55])\n",
      "Validation accuracy: 77.2222%\n"
     ]
    }
   ],
   "source": [
    "# Model evaluation\n",
    "model.eval()\n",
    "tp_tn_fp_fn = torch.zeros(4, num_classes)\n",
    "with torch.no_grad():\n",
    "    correct = 0\n",
    "    total = 0\n",
    "    for images, labels in test_loader:\n",
    "        outputs = model(images)\n",
    "        _, predicted = torch.max(outputs.data, 1)\n",
    "        total += labels.size(0)\n",
    "        print(predicted)\n",
    "        correct += (predicted == labels).sum().item()\n",
    "\n",
    "    print(f\"Validation accuracy: {(100 * correct / total):.4f}%\")\n"
   ]
  },
  {
   "cell_type": "code",
   "execution_count": null,
   "metadata": {},
   "outputs": [],
   "source": [
    "# Save the model to disk\n",
    "# torch.save(model.state_dict(), \"animal_model.pth\")"
   ]
  }
 ],
 "metadata": {
  "kernelspec": {
   "display_name": "venv",
   "language": "python",
   "name": "python3"
  },
  "language_info": {
   "codemirror_mode": {
    "name": "ipython",
    "version": 3
   },
   "file_extension": ".py",
   "mimetype": "text/x-python",
   "name": "python",
   "nbconvert_exporter": "python",
   "pygments_lexer": "ipython3",
   "version": "3.12.5"
  }
 },
 "nbformat": 4,
 "nbformat_minor": 2
}
